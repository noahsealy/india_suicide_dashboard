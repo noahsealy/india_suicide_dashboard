{
 "cells": [
  {
   "cell_type": "code",
   "execution_count": 2,
   "metadata": {},
   "outputs": [],
   "source": [
    "# imports\n",
    "import numpy as np\n",
    "import pandas as pd\n",
    "from pathlib import Path"
   ]
  },
  {
   "cell_type": "code",
   "execution_count": 3,
   "metadata": {},
   "outputs": [],
   "source": [
    "# import the csv so I can process it\n",
    "csv = 'Suicide_Data_Reshaped.csv'\n",
    "df = pd.read_csv(Path(csv))"
   ]
  },
  {
   "cell_type": "code",
   "execution_count": 3,
   "metadata": {},
   "outputs": [],
   "source": [
    "# the following 2 columns are duplicated and are both missing values\n",
    "# BUT together, they are a fully complete column\n",
    "# so the code below simply merges them into one and drops the other\n",
    "# I merge them into the second one as it has the more complete name\n",
    "# probably an little bug from Kaggle data set makers end\n",
    "first_econ = 'Causes_Bankruptcy or Sudden change in Economic'\n",
    "second_econ = 'Causes_Bankruptcy or Sudden change in Economic Status'\n",
    "\n",
    "df[second_econ].fillna(value=df[first_econ], inplace=True)\n",
    "\n",
    "df = df.drop([first_econ], axis=1)"
   ]
  },
  {
   "cell_type": "code",
   "execution_count": 4,
   "metadata": {},
   "outputs": [],
   "source": [
    "# there are a bunch of Nan places in this data set, but I believe it is where\n",
    "# 0 suicides are meant to be\n",
    "# so I just set all nans to be 0\n",
    "cols = []\n",
    "for col in df.select_dtypes(include=\"number\").columns:\n",
    "    cols.append(col)\n",
    "\n",
    "for i in cols:\n",
    "    df[i].fillna(value=0, inplace=True)"
   ]
  },
  {
   "cell_type": "code",
   "execution_count": 5,
   "metadata": {},
   "outputs": [],
   "source": [
    "# I save the newly processed data frame to a new file\n",
    "df.to_csv('processed_suicide_data.csv')"
   ]
  },
  {
   "cell_type": "code",
   "execution_count": 6,
   "metadata": {},
   "outputs": [
    {
     "name": "stdout",
     "output_type": "stream",
     "text": [
      "Number of states: 38\n"
     ]
    }
   ],
   "source": [
    "'''\n",
    "TODO - potential bug, the indexing of the states remains what it is in the previously \n",
    "processed data... this may lead to a bug, we will see if it needs to be fixed...\n",
    "'''\n",
    "# for purposes of efficiency of the web application, I will look into loading files\n",
    "# based on state selection that only contains information for that state\n",
    "# to prep for this, I'm going to save every state into its own csv file\n",
    "\n",
    "# take all unique values in State\n",
    "vals = df['State'].values\n",
    "states = [] \n",
    "[states.append(x) for x in vals if x not in states] # ~list comprehension~\n",
    "print('Number of states: ' + str(len(states)))\n",
    "\n",
    "# write each seperate state to its own state .csv file in a state_data folder\n",
    "for state_name in states:\n",
    "    state_df = df[df['State'] == state_name]\n",
    "    state_df.to_csv('state_data/' + state_name + '.csv')"
   ]
  },
  {
   "cell_type": "code",
   "execution_count": 7,
   "metadata": {},
   "outputs": [
    {
     "name": "stdout",
     "output_type": "stream",
     "text": [
      "Number of years: 12\n"
     ]
    }
   ],
   "source": [
    "# take all unique values in State\n",
    "vals = df['Year'].values\n",
    "years = [] \n",
    "[years.append(x) for x in vals if x not in years] # ~list comprehension~\n",
    "print('Number of years: ' + str(len(years)))\n",
    "\n",
    "# write each seperate state to its own state .csv file in a state_data folder\n",
    "for year in years:\n",
    "    year_df = df[df['Year'] == year]\n",
    "    year_df.to_csv('year_data/' + str(year) + '.csv')"
   ]
  },
  {
   "cell_type": "code",
   "execution_count": null,
   "metadata": {},
   "outputs": [],
   "source": []
  }
 ],
 "metadata": {
  "kernelspec": {
   "display_name": "Python 3",
   "language": "python",
   "name": "python3"
  },
  "language_info": {
   "codemirror_mode": {
    "name": "ipython",
    "version": 3
   },
   "file_extension": ".py",
   "mimetype": "text/x-python",
   "name": "python",
   "nbconvert_exporter": "python",
   "pygments_lexer": "ipython3",
   "version": "3.8.3"
  }
 },
 "nbformat": 4,
 "nbformat_minor": 4
}
