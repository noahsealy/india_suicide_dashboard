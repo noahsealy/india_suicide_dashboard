{
 "cells": [
  {
   "cell_type": "code",
   "execution_count": 1,
   "metadata": {},
   "outputs": [],
   "source": [
    "# imports\n",
    "import numpy as np\n",
    "import pandas as pd\n",
    "from pathlib import Path"
   ]
  },
  {
   "cell_type": "code",
   "execution_count": 2,
   "metadata": {},
   "outputs": [],
   "source": [
    "# import the csv so I can process it\n",
    "csv = 'Suicide_Data_Reshaped.csv'\n",
    "df = pd.read_csv(Path(csv))"
   ]
  },
  {
   "cell_type": "code",
   "execution_count": 3,
   "metadata": {},
   "outputs": [],
   "source": [
    "# the following 2 columns are duplicated and are both missing values\n",
    "# BUT together, they are a fully complete column\n",
    "# so the code below simply merges them into one and drops the other\n",
    "# I merge them into the second one as it has the more complete name\n",
    "# probably an little bug from Kaggle data set makers end\n",
    "first_econ = 'Causes_Bankruptcy or Sudden change in Economic'\n",
    "second_econ = 'Causes_Bankruptcy or Sudden change in Economic Status'\n",
    "\n",
    "df[second_econ].fillna(value=df[first_econ], inplace=True)\n",
    "\n",
    "df = df.drop([first_econ], axis=1)"
   ]
  },
  {
   "cell_type": "code",
   "execution_count": 4,
   "metadata": {},
   "outputs": [],
   "source": [
    "# same process as above, just for another duplicate column\n",
    "first_no_child = 'Causes_Not having Children (Barrenness/Impotency'\n",
    "second_no_child = 'Causes_Not having Children(Barrenness/Impotency'\n",
    "\n",
    "df[first_no_child].fillna(value=df[second_no_child], inplace=True)\n",
    "\n",
    "df = df.drop([second_no_child], axis=1)"
   ]
  },
  {
   "cell_type": "code",
   "execution_count": 5,
   "metadata": {},
   "outputs": [],
   "source": [
    "# there are a bunch of Nan places in this data set, but I believe it is where\n",
    "# 0 suicides are meant to be\n",
    "# so I just set all nans to be 0\n",
    "cols = []\n",
    "for col in df.select_dtypes(include=\"number\").columns:\n",
    "    cols.append(col)\n",
    "\n",
    "for i in cols:\n",
    "    df[i].fillna(value=0, inplace=True)"
   ]
  },
  {
   "cell_type": "code",
   "execution_count": 6,
   "metadata": {},
   "outputs": [],
   "source": [
    "# I save the newly processed data frame to a new file\n",
    "df.to_csv('processed_suicide_data.csv')"
   ]
  },
  {
   "cell_type": "code",
   "execution_count": null,
   "metadata": {},
   "outputs": [],
   "source": []
  }
 ],
 "metadata": {
  "kernelspec": {
   "display_name": "Python 3",
   "language": "python",
   "name": "python3"
  },
  "language_info": {
   "codemirror_mode": {
    "name": "ipython",
    "version": 3
   },
   "file_extension": ".py",
   "mimetype": "text/x-python",
   "name": "python",
   "nbconvert_exporter": "python",
   "pygments_lexer": "ipython3",
   "version": "3.8.3"
  }
 },
 "nbformat": 4,
 "nbformat_minor": 4
}
